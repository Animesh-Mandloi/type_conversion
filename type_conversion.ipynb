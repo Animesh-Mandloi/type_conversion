{
 "cells": [
  {
   "cell_type": "code",
   "execution_count": null,
   "id": "f75e683f-db89-49b9-9438-c93bac11432a",
   "metadata": {},
   "outputs": [],
   "source": [
    "#Convert an integer to a floating-point number.\n",
    "\n",
    "integer_value = 42\n",
    "float_value = float(integer_value)\n",
    "print(float_value)  \n"
   ]
  },
  {
   "cell_type": "code",
   "execution_count": null,
   "id": "1044eeb9-88b4-4a37-8240-5a89dc9a0fe0",
   "metadata": {},
   "outputs": [],
   "source": [
    "#Convert a float to an integer.\n",
    "\n",
    "integer_value = 42\n",
    "float_value = float(integer_value)\n",
    "print(float_value)  \n"
   ]
  },
  {
   "cell_type": "code",
   "execution_count": null,
   "id": "96bd52e5-b4e0-46f6-a9fe-c7e04252d225",
   "metadata": {},
   "outputs": [],
   "source": [
    "#Convert an integer to a string.\n",
    "integer_value = 42\n",
    "string_value = str(integer_value)\n",
    "print(string_value)  \n"
   ]
  },
  {
   "cell_type": "code",
   "execution_count": null,
   "id": "32dc1179-c48e-48f6-a9ac-25b9ede3189b",
   "metadata": {},
   "outputs": [],
   "source": [
    "#Convert a list to a tuple.\n",
    "list_value = [1, 2, 3]\n",
    "tuple_value = tuple(list_value)\n",
    "print(tuple_value)  \n"
   ]
  },
  {
   "cell_type": "code",
   "execution_count": null,
   "id": "138f52cd-56ce-4adc-804d-34d634732d17",
   "metadata": {},
   "outputs": [],
   "source": [
    "#Convert a tuple to a list.\n",
    "tuple_value = (1, 2, 3)\n",
    "list_value = list(tuple_value)\n",
    "print(list_value) \n"
   ]
  },
  {
   "cell_type": "code",
   "execution_count": null,
   "id": "775cec24-aaf1-42de-b4d0-752731550f07",
   "metadata": {},
   "outputs": [],
   "source": [
    "#Convert a decimal number to binary.\n",
    "decimal_number = 42\n",
    "binary_value = bin(decimal_number)\n",
    "print(binary_value)  \n"
   ]
  },
  {
   "cell_type": "code",
   "execution_count": null,
   "id": "8a8d70f6-9d59-46e8-97b6-59f90485d0d0",
   "metadata": {},
   "outputs": [],
   "source": [
    "#Convert a non-zero number to boolean.\n",
    "non_zero_number = 42\n",
    "boolean_value = bool(non_zero_number)\n",
    "print(boolean_value)  \n"
   ]
  },
  {
   "cell_type": "code",
   "execution_count": null,
   "id": "93a48e73-5a7b-414f-8762-74a514c1445d",
   "metadata": {},
   "outputs": [],
   "source": []
  },
  {
   "cell_type": "code",
   "execution_count": null,
   "id": "92ae4383-f522-45cc-9e26-3074d5a8f5bf",
   "metadata": {},
   "outputs": [],
   "source": []
  },
  {
   "cell_type": "code",
   "execution_count": null,
   "id": "f92fae08-25be-4aaa-b8ff-388f924d0107",
   "metadata": {},
   "outputs": [],
   "source": []
  },
  {
   "cell_type": "code",
   "execution_count": null,
   "id": "1ab021b0-2068-436c-bfa5-2fd9e22b6ad1",
   "metadata": {},
   "outputs": [],
   "source": []
  }
 ],
 "metadata": {
  "kernelspec": {
   "display_name": "Python 3 (ipykernel)",
   "language": "python",
   "name": "python3"
  },
  "language_info": {
   "codemirror_mode": {
    "name": "ipython",
    "version": 3
   },
   "file_extension": ".py",
   "mimetype": "text/x-python",
   "name": "python",
   "nbconvert_exporter": "python",
   "pygments_lexer": "ipython3",
   "version": "3.12.2"
  }
 },
 "nbformat": 4,
 "nbformat_minor": 5
}
